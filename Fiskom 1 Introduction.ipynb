{
 "cells": [
  {
   "cell_type": "code",
   "execution_count": 1,
   "metadata": {},
   "outputs": [],
   "source": [
    "#Fiskom 1\n",
    "#fungsi operator = + - * % !\n",
    "#Tabulasi digunakan sbg fungsi scope(pemisah antar block kode)\n",
    "#IDE (Integrated Development Environmnet)\n",
    "#CTRL + enter = run current cell\n",
    "#Alt + enter = buka cell baru\n",
    "#Shift + enter = menjalankan cell lalu membuka cell baru"
   ]
  },
  {
   "cell_type": "code",
   "execution_count": 1,
   "metadata": {},
   "outputs": [
    {
     "name": "stdout",
     "output_type": "stream",
     "text": [
      "a is a zero\n"
     ]
    }
   ],
   "source": [
    "#if statemnet\n",
    "\n",
    "a = 0 #boleh angka berapapun\n",
    "\n",
    "if a > 0: #condition 1\n",
    "    print(\"a is positif number\")\n",
    "    \n",
    "elif a < 0: #condition 2 dst nya....\n",
    "    print(\"a is a negative number\")\n",
    "    \n",
    "else: #gk perlu kondisi, dan harus paling bawah\n",
    "    print(\"a is a zero\")\n",
    "    "
   ]
  },
  {
   "cell_type": "code",
   "execution_count": 2,
   "metadata": {},
   "outputs": [],
   "source": [
    "#fungsi \n",
    "def tanda(a): #sign_of=definisi fungsi \n",
    "    if a > 0:\n",
    "        sign = 'positif'\n",
    "    elif a < 0: \n",
    "        sign = 'negative'\n",
    "    else: \n",
    "        sign = 'zero'\n",
    "    return sign\n",
    "    "
   ]
  },
  {
   "cell_type": "code",
   "execution_count": 3,
   "metadata": {},
   "outputs": [
    {
     "name": "stdout",
     "output_type": "stream",
     "text": [
      "angkanya zero\n"
     ]
    }
   ],
   "source": [
    "angka = 0\n",
    "print(\"angkanya \" + tanda(angka))"
   ]
  },
  {
   "cell_type": "code",
   "execution_count": 10,
   "metadata": {},
   "outputs": [
    {
     "name": "stdout",
     "output_type": "stream",
     "text": [
      "[1, 2, 3, 4, 5, 6, 7, 8, 9, 10, 11, 12, 13, 14, 15, 16, 17, 18, 19, 20, 21, 22, 23, 24, 25, 26, 27, 28, 29, 30, 31, 32, 33, 34, 35, 36, 37, 38, 39, 40, 41, 42, 43, 44, 45, 46, 47, 48, 49, 50, 51, 52, 53, 54, 55, 56, 57, 58, 59, 60, 61, 62, 63, 64, 65, 66, 67, 68, 69, 70, 71, 72, 73, 74, 75, 76, 77, 78, 79, 80, 81, 82, 83, 84, 85, 86, 87, 88, 89, 90, 91, 92, 93, 94, 95, 96, 97, 98, 99, 100]\n"
     ]
    }
   ],
   "source": [
    "#loops (while,for) = fungsi yg berulang\n",
    "x = []  \n",
    "xmin = 1\n",
    "xmax = 100\n",
    "while xmin <= xmax: #kondisi 1 = berjalan dari xmin sampai xmax\n",
    "    x.append(xmin) #block  = running code dari sini, append = menambahkan dibelakang angka nya\n",
    "    xmin += 1 #akan menuliskan xmin sampai xmax dgn menambahkan 1, + bisa diganti dgn * atau : sesuai kebutuhan, jgn pakai - karena infinity, akan menghabiskan Ram\n",
    "print(x)"
   ]
  },
  {
   "cell_type": "code",
   "execution_count": 13,
   "metadata": {},
   "outputs": [
    {
     "name": "stdout",
     "output_type": "stream",
     "text": [
      "[1, -1, -3, -5, -7, -9, -11, -13, -15, -17, -19, -21, -23, -25, -27, -29, -31, -33, -35, -37, -39, -41, -43, -45, -47, -49, -51, -53, -55, -57, -59, -61, -63, -65, -67, -69, -71, -73, -75, -77, -79, -81, -83, -85, -87, -89, -91, -93, -95, -97, -99, -101, -103, -105, -107, -109, -111, -113, -115, -117, -119, -121, -123, -125, -127, -129, -131, -133, -135, -137, -139, -141, -143, -145, -147, -149, -151, -153, -155, -157, -159, -161, -163, -165, -167, -169, -171, -173, -175, -177, -179, -181, -183, -185, -187, -189, -191, -193, -195, -197]\n"
     ]
    }
   ],
   "source": [
    "#loops (while) = fungsi yg berulang\n",
    "x = []  \n",
    "xmin = 1\n",
    "xmax = 10\n",
    "while xmin <= xmax: #kondisi1 = berjalan dari xmin sampai xmax\n",
    "    x.append(xmin) #block  = running code dari sini, append = menambahkan dibelakang angka nya\n",
    "    xmin -= 2 # pakai (-) menyebabkan infinity, akan menghabiskan Ram, jadi harus menggunakan break\n",
    "    if len(x) >= 100: break #pakai break untuk berhenti loops\n",
    "        \n",
    "print(x)"
   ]
  },
  {
   "cell_type": "code",
   "execution_count": 17,
   "metadata": {},
   "outputs": [
    {
     "name": "stdout",
     "output_type": "stream",
     "text": [
      "1\n",
      "2\n",
      "3\n",
      "4\n",
      "5\n",
      "6\n",
      "7\n",
      "8\n",
      "9\n",
      "10\n"
     ]
    }
   ],
   "source": [
    "#loops (for)\n",
    "for i in range(1,11): #target pencapaian dari variable yg bentuknya int\n",
    "    print(i) #block"
   ]
  },
  {
   "cell_type": "code",
   "execution_count": 4,
   "metadata": {},
   "outputs": [
    {
     "name": "stdout",
     "output_type": "stream",
     "text": [
      "[1, 2, 3, 4, 5, 6, 7, 8, 9, 10]\n"
     ]
    }
   ],
   "source": [
    "#loops (for)\n",
    "y = []\n",
    "for t in range(1,11): #target pencapaian dari variable yg bentuknya int, pasti 11 - 1 = loop sampai 10 \n",
    "    y.append(t) #Block\n",
    "print(y) #hati2 dgn Tabulasi!"
   ]
  },
  {
   "cell_type": "code",
   "execution_count": 5,
   "metadata": {},
   "outputs": [
    {
     "name": "stdout",
     "output_type": "stream",
     "text": [
      "[1, 2, 3, 4, 5, 6, 7, 8, 10, 11, 12, 13, 14, 15, 16, 17, 19, 20, 21, 22, 23, 24, 25, 26, 28, 29, 30, 31, 32, 33, 34, 35, 37, 38, 39, 40, 41, 42, 43, 44, 46, 47, 48, 49, 50, 51, 52, 53, 55, 56, 57, 58, 59, 60, 61, 62, 64, 65, 66, 67, 68, 69, 70, 71, 73, 74, 75, 76, 77, 78, 79, 80, 82, 83, 84, 85, 86, 87, 88, 89, 91, 92, 93, 94, 95, 96, 97, 98, 100]\n"
     ]
    }
   ],
   "source": [
    "#continue\n",
    "y = []\n",
    "for i in range(1,101): #target pencapaian dari variable yg bentuknya int, pasti 11 - 1 = loop sampai 10 \n",
    "    if (i%9 == 0): continue # % artinya pembagi, %9 artinya pembagi 9  \n",
    "    y.append(i) \n",
    "print(y) #hati2 dgn Tabulasi!"
   ]
  },
  {
   "cell_type": "code",
   "execution_count": 6,
   "metadata": {},
   "outputs": [
    {
     "name": "stdout",
     "output_type": "stream",
     "text": [
      "[9, 18, 27, 36, 45, 54, 63, 72, 81, 90, 99]\n"
     ]
    }
   ],
   "source": [
    "#continue\n",
    "y = []\n",
    "for i in range(1,101): #target pencapaian dari variable yg bentuknya int, pasti 11 - 1 = loop sampai 10 \n",
    "    if (i%9 != 0): continue # % artinya pembagi, %9 artinya pembagi 9, ! digunakan untuk menuliskan angka yg bisa dibagi 9 saja\n",
    "    y.append(i) \n",
    "print(y) #hati2 dgn Tabulasi!"
   ]
  },
  {
   "cell_type": "code",
   "execution_count": 10,
   "metadata": {},
   "outputs": [
    {
     "name": "stdout",
     "output_type": "stream",
     "text": [
      "8\n"
     ]
    }
   ],
   "source": [
    "#type conversion\n",
    "m = 7.94892\n",
    "print(round(m)) # round digunakan untuk membulatkan, int digunakan untuk menulis angka depan saja"
   ]
  },
  {
   "cell_type": "code",
   "execution_count": 11,
   "metadata": {},
   "outputs": [
    {
     "name": "stdout",
     "output_type": "stream",
     "text": [
      "8.0\n"
     ]
    }
   ],
   "source": [
    "#type conversion\n",
    "m = 7.94892\n",
    "numberint = 8\n",
    "print(float(numberint)) # untuk mengubah int menjadi float"
   ]
  },
  {
   "cell_type": "code",
   "execution_count": 12,
   "metadata": {},
   "outputs": [
    {
     "name": "stdout",
     "output_type": "stream",
     "text": [
      "(7.94892+8j)\n"
     ]
    }
   ],
   "source": [
    "#type conversion\n",
    "m = 7.94892\n",
    "numberint = 8\n",
    "print(complex(m,numberint)) # complex number untuk menuliskan angka yg komplex, di python angka kompleks ditulis dgn (j)"
   ]
  },
  {
   "cell_type": "code",
   "execution_count": 17,
   "metadata": {},
   "outputs": [
    {
     "name": "stdout",
     "output_type": "stream",
     "text": [
      "(7.94892+8j)\n",
      "11.27764732\n"
     ]
    }
   ],
   "source": [
    "#type conversion\n",
    "m = 7.94892\n",
    "numberint = 8\n",
    "print(complex(m,numberint)) # complex number untuk menuliskan angka yg komplex, di python angka kompleks ditulis dgn (j)\n",
    "comple = complex(m,numberint)\n",
    "print(round(abs(comple),8)) #abs digunakan sbg fungsi rumus phytagoras dari m dan numberint"
   ]
  },
  {
   "cell_type": "code",
   "execution_count": 20,
   "metadata": {},
   "outputs": [
    {
     "name": "stdout",
     "output_type": "stream",
     "text": [
      "enter a number50\n",
      "b =  50\n"
     ]
    }
   ],
   "source": [
    "#input \n",
    "b = input('enter a number ')\n",
    "\n",
    "print('b = ',b)"
   ]
  },
  {
   "cell_type": "code",
   "execution_count": 2,
   "metadata": {},
   "outputs": [
    {
     "name": "stdout",
     "output_type": "stream",
     "text": [
      "enter a number 50\n",
      "b =  50\n"
     ]
    },
    {
     "data": {
      "text/plain": [
       "int"
      ]
     },
     "execution_count": 2,
     "metadata": {},
     "output_type": "execute_result"
    }
   ],
   "source": [
    "#input \n",
    "b = input('enter a number ')\n",
    "evalb = eval(b)\n",
    "print('b = ',b)\n",
    "type(evalb) #eval = mengevaluasi yg sudah di input namun hanya untuk data type integer, tidak bisa string"
   ]
  },
  {
   "cell_type": "code",
   "execution_count": 1,
   "metadata": {},
   "outputs": [
    {
     "name": "stdout",
     "output_type": "stream",
     "text": [
      "b[0,0]:1\n",
      "b[0,1]:0\n",
      "b[0,2]:1\n",
      "b[1,0]:0\n",
      "b[1,1]:1\n",
      "b[1,2]:0\n",
      "b[2,0]:1\n",
      "b[2,1]:0\n",
      "b[2,2]:1\n",
      "Matriks Identitas = \n",
      " 1 0 1 \n",
      " 0 1 0 \n",
      " 1 0 1 \n"
     ]
    }
   ],
   "source": [
    "#Menulis matrix identitas \n",
    "b = [[0,0,0],[0,0,0],[0,0,0]]\n",
    "for i in range(0,3):\n",
    "    for j in range(0,3):\n",
    "        temp = input('b['+str(i)+','+str(j)+']:')\n",
    "        b[i][j] = eval(temp)\n",
    "\n",
    "print('Matriks Identitas = ')\n",
    "for i in range(0,3):\n",
    "    string = ' '\n",
    "    for j in range(0,3):\n",
    "        string += str(b[i][j])+' '\n",
    "    print(string)"
   ]
  },
  {
   "cell_type": "markdown",
   "metadata": {},
   "source": []
  }
 ],
 "metadata": {
  "kernelspec": {
   "display_name": "Python 3",
   "language": "python",
   "name": "python3"
  },
  "language_info": {
   "codemirror_mode": {
    "name": "ipython",
    "version": 3
   },
   "file_extension": ".py",
   "mimetype": "text/x-python",
   "name": "python",
   "nbconvert_exporter": "python",
   "pygments_lexer": "ipython3",
   "version": "3.7.3"
  }
 },
 "nbformat": 4,
 "nbformat_minor": 2
}
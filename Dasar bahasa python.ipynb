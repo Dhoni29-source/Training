{
 "cells": [
  {
   "cell_type": "markdown",
   "metadata": {},
   "source": [
    "**Kampus Biner**"
   ]
  },
  {
   "cell_type": "code",
   "execution_count": 9,
   "metadata": {},
   "outputs": [
    {
     "name": "stdout",
     "output_type": "stream",
     "text": [
      "nomor 1:\n",
      "[5, 6, 7, 8]\n",
      "\n",
      "nomor 2:\n",
      "[12, 13, 14, 15]\n",
      "[12, 13, 14, 15]\n",
      "[12, 13, 14, 15]\n",
      "\n",
      "nomor 3:\n",
      "[8, 7, 6, 5]\n",
      "[8, 7, 6, 5]\n",
      "[8, 7, 6, 5]\n",
      "[8, 7, 6, 5]\n",
      "\n",
      "nomor 4:\n",
      "[14, 12, 10, 8]\n",
      "[14, 12, 10, 8]\n",
      "[14, 12, 10, 8]\n",
      "[14, 12, 10, 8]\n",
      "[14, 12, 10, 8]\n",
      "[14, 12, 10, 8]\n",
      "[14, 12, 10, 8]\n",
      "[14, 12, 10, 8]\n",
      "[14, 12, 10, 8]\n",
      "\n",
      "nomor 5:\n",
      "[12, 11, 10]\n",
      "[12, 11, 10]\n",
      "[12, 11, 10]\n",
      "[12, 11, 10]\n",
      "[12, 11, 10]\n"
     ]
    }
   ],
   "source": [
    "a = [5,6,7,8,9,10,11,12,13,14,15]\n",
    "\n",
    "# nomor 1\n",
    "print('nomor 1:')\n",
    "print(a[:4])\n",
    "\n",
    "# nomor 2\n",
    "print('\\nnomor 2:')\n",
    "print(a[-4:])\n",
    "print(a[7:]) \n",
    "print(a[-4:])\n",
    "# nomor 3\n",
    "print('\\nnomor 3:')\n",
    "print(list(reversed(a[:4])))\n",
    "print(a[3::-1]) \n",
    "print(a[-8::-1])\n",
    "print(a[-8:-12:-1])\n",
    "\n",
    "# nomor 4\n",
    "print('\\nnomor 4:')\n",
    "print(list(reversed(a[3:11:2])))\n",
    "print(a[9:2:-2]) \n",
    "print(a[9:1:-2]) \n",
    "print(a[-2:2:-2])\n",
    "print(a[-2:1:-2]) \n",
    "print(a[9:-9:-2])\n",
    "print(a[9:-10:-2])\n",
    "print(a[-2:-9:-2])\n",
    "print(a[-2:-10:-2])\n",
    "\n",
    "# nomor 5\n",
    "print('\\nnomor 5:')\n",
    "print(list(reversed(a[5:8])))\n",
    "print(a[7:4:-1])\n",
    "print(a[-4:4:-1])\n",
    "print(a[7:-7:-1])\n",
    "print(a[-4:-7:-1])"
   ]
  },
  {
   "cell_type": "code",
   "execution_count": 16,
   "metadata": {},
   "outputs": [
    {
     "name": "stdout",
     "output_type": "stream",
     "text": [
      "[2, 2, 4, 4, 6, 6, 8, 8, 10]\n"
     ]
    }
   ],
   "source": [
    "a = [1,2,3,4,5,6,7,8,9]\n",
    "\n",
    "if a[-1] + a[1] == 10:\n",
    "    b = [0,1,0,1,0,1,0,1,0]\n",
    "elif a[-2] + a[2] == 11:\n",
    "    b = [1,0,1,0,1,0,1,0,1]\n",
    "elif a[-3] + a[3] == 12:\n",
    "    b = [0,0,0,0,0,0,0,0,0]\n",
    "else:\n",
    "    b = [1,1,1,1,1,1,1,1,1]\n",
    "    \n",
    "a[0] = a[0] + b[0]\n",
    "a[1] = a[1] + b[1]\n",
    "a[2] = a[2] + b[2]\n",
    "a[3] = a[3] + b[3]\n",
    "a[4] = a[4] + b[4]\n",
    "a[5] = a[5] + b[5]\n",
    "a[6] = a[6] + b[6]\n",
    "a[7] = a[7] + b[7]\n",
    "a[8] = a[8] + b[8]\n",
    "\n",
    "print(a)"
   ]
  },
  {
   "cell_type": "markdown",
   "metadata": {},
   "source": [
    "**Dicoding.com**"
   ]
  },
  {
   "cell_type": "code",
   "execution_count": 2,
   "metadata": {},
   "outputs": [
    {
     "name": "stdout",
     "output_type": "stream",
     "text": [
      "C:\\Users\\asus\\Anaconda3\\Dhoni\n"
     ]
    }
   ],
   "source": [
    "import os\n",
    "print(os.getcwd())"
   ]
  },
  {
   "cell_type": "code",
   "execution_count": 1,
   "metadata": {},
   "outputs": [
    {
     "name": "stdout",
     "output_type": "stream",
     "text": [
      "6\n",
      "10\n",
      "[4, 5]\n",
      "[1, 2, 3, 4, 5]\n",
      "[8, 9, 10]\n",
      "[2, 4, 6]\n"
     ]
    }
   ],
   "source": [
    "x = [1,2,3,4,5,6,7,8,9,10]\n",
    "print(x[5])\n",
    "print(x[-1])\n",
    "print(x[3:5])\n",
    "print(x[:5])\n",
    "print(x[-3:])\n",
    "print(x[1:7:2]) #kurang paham "
   ]
  },
  {
   "cell_type": "code",
   "execution_count": 16,
   "metadata": {},
   "outputs": [],
   "source": [
    "#Argument Specifier \n",
    "# %s - String\n",
    "# %d - Integers\n",
    "# %f - Bilangan Pecahan\n",
    "# %.<digit>f - Bilangan pecahan dengan sejumlah digit angka dibelakang koma.\n",
    "# %x/%X - Bilangan bulat dalam representasi Hexa (huruf kecil/huruf besar)"
   ]
  },
  {
   "cell_type": "code",
   "execution_count": 18,
   "metadata": {},
   "outputs": [
    {
     "name": "stdout",
     "output_type": "stream",
     "text": [
      "Number of arguments: 3 arguments.\n",
      "Argument List: ['C:\\\\Users\\\\asus\\\\Anaconda3\\\\lib\\\\site-packages\\\\ipykernel_launcher.py', '-f', 'C:\\\\Users\\\\asus\\\\AppData\\\\Roaming\\\\jupyter\\\\runtime\\\\kernel-3ad7cfca-57ed-4aa6-bf01-10363495c18e.json']\n",
      "-f\n"
     ]
    }
   ],
   "source": [
    "# Membuat command line argument\n",
    "import sys\n",
    "print('Number of arguments:', len(sys.argv), 'arguments.')\n",
    "print('Argument List:', str(sys.argv))\n",
    "print(sys.argv[1])\n",
    "#Cara menjalankan di CMD yaitu: $ python test.py arg1 arg2 arg3"
   ]
  },
  {
   "cell_type": "code",
   "execution_count": 20,
   "metadata": {},
   "outputs": [
    {
     "data": {
      "text/plain": [
       "'HELLO WORD'"
      ]
     },
     "execution_count": 20,
     "metadata": {},
     "output_type": "execute_result"
    }
   ],
   "source": [
    "p = 'hello word'\n",
    "p = p.upper()\n",
    "p"
   ]
  },
  {
   "cell_type": "code",
   "execution_count": 22,
   "metadata": {},
   "outputs": [
    {
     "data": {
      "text/plain": [
       "'hello word'"
      ]
     },
     "execution_count": 22,
     "metadata": {},
     "output_type": "execute_result"
    }
   ],
   "source": [
    "p = 'hello word'\n",
    "p = p.lower()\n",
    "p"
   ]
  },
  {
   "cell_type": "code",
   "execution_count": 24,
   "metadata": {},
   "outputs": [
    {
     "name": "stdout",
     "output_type": "stream",
     "text": [
      "HELLO\n",
      "hello\n",
      "HELLO\n",
      "hello\n",
      "True\n"
     ]
    }
   ],
   "source": [
    "print('Hello'.upper())\n",
    "print('Hello'.upper().lower())\n",
    "print('Hello'.upper().lower().upper())\n",
    "print('HELLO'.lower())\n",
    "print('HELLO'.lower().islower())"
   ]
  },
  {
   "cell_type": "code",
   "execution_count": 25,
   "metadata": {},
   "outputs": [
    {
     "name": "stdout",
     "output_type": "stream",
     "text": [
      "Enter your age:\n",
      "20\n",
      "Select a new password (letters and numbers only):\n",
      "Dhoni\n"
     ]
    }
   ],
   "source": [
    "# Metode isX akan membantu misalnya dalam validasi input user.\n",
    "while True:\n",
    "    print('Enter your age:')\n",
    "    age = input()\n",
    "    if age.isdecimal():\n",
    "        break\n",
    "    print('Please enter a number for your age.')\n",
    "while True:\n",
    "    print('Select a new password (letters and numbers only):')\n",
    "    password = input()\n",
    "    if password.isalnum():\n",
    "        break\n",
    "    print('Passwords can only have letters and numbers.')"
   ]
  },
  {
   "cell_type": "code",
   "execution_count": 28,
   "metadata": {},
   "outputs": [
    {
     "data": {
      "text/plain": [
       "[-7, 1, 2, 3.14, 5]"
      ]
     },
     "execution_count": 28,
     "metadata": {},
     "output_type": "execute_result"
    }
   ],
   "source": [
    "# Mnegurutkan list dengan sort\n",
    "x = [2, 5, 3.14, 1, -7]\n",
    "x.sort()\n",
    "x\n",
    "\n"
   ]
  },
  {
   "cell_type": "code",
   "execution_count": 29,
   "metadata": {},
   "outputs": [
    {
     "data": {
      "text/plain": [
       "['ants', 'badgers', 'cats', 'dogs', 'elephants']"
      ]
     },
     "execution_count": 29,
     "metadata": {},
     "output_type": "execute_result"
    }
   ],
   "source": [
    "y = ['ants', 'cats', 'dogs', 'badgers', 'elephants']\n",
    "y.sort()\n",
    "y"
   ]
  },
  {
   "cell_type": "code",
   "execution_count": 50,
   "metadata": {},
   "outputs": [],
   "source": [
    "import pycodestyle\n",
    "# Pycodestyle adalah aplikasi open source (berlisensi MIT/Expat) \n",
    "# untuk membantu mengecek kode terkait gaya penulisan kode dengan konvensi PEP8.\n",
    "import pylint\n",
    "# Pylint adalah aplikasi open source (berlisensi GPL v2) untuk melakukan analisis kode Python, \n",
    "# mengecek untuk kesalahan (error) pemrograman, memaksakan standar penulisan kode dengan mengecek penulisan kode yang tidak baik, \n",
    "# serta memberikan saran untuk refactoring sederhana.\n",
    "\n",
    "class Kalkulator():\n",
    "    \"\"\"kalkulator tambah kurang\"\"\"\n",
    "    def __init__(self, _i):\n",
    "        self.i = _i\n",
    " \n",
    "    def tambah(self, _i): return self.i + _i\n",
    " \n",
    "    def kurang(self, _i):\n",
    "        return self.i - _i"
   ]
  },
  {
   "cell_type": "code",
   "execution_count": 51,
   "metadata": {},
   "outputs": [
    {
     "name": "stdout",
     "output_type": "stream",
     "text": [
      "Current Letter: P\n",
      "Current Letter: y\n",
      "Current Letter: t\n",
      "Current Letter: h\n",
      "Current Letter: o\n",
      "Current Letter: n\n",
      "Current fruit: banana\n",
      "Current fruit: apple\n",
      "Current fruit: mango\n"
     ]
    }
   ],
   "source": [
    "#loop for\n",
    "for letter in 'Python':  # First Example\n",
    "    print('Current Letter: {}'.format(letter))\n",
    "fruits = ['banana', 'apple', 'mango']\n",
    "for fruit in fruits:  # Second Example\n",
    "    print('Current fruit: {}'.format(fruit))"
   ]
  },
  {
   "cell_type": "code",
   "execution_count": 52,
   "metadata": {},
   "outputs": [
    {
     "name": "stdout",
     "output_type": "stream",
     "text": [
      "The count is: 0\n",
      "The count is: 1\n",
      "The count is: 2\n",
      "The count is: 3\n",
      "The count is: 4\n"
     ]
    }
   ],
   "source": [
    "# loop while\n",
    "count = 0\n",
    "while (count < 5):\n",
    "    print('The count is: {}'.format(count))\n",
    "    count = count + 1"
   ]
  },
  {
   "cell_type": "code",
   "execution_count": 54,
   "metadata": {},
   "outputs": [
    {
     "name": "stdout",
     "output_type": "stream",
     "text": [
      "*****\n",
      "****\n",
      "***\n",
      "**\n",
      "*\n"
     ]
    }
   ],
   "source": [
    "# loop bertingkat\n",
    "for i in range(0, 5):\n",
    "    for j in range(0, 5 - i):\n",
    "        print('*', end='')\n",
    "    print()"
   ]
  },
  {
   "cell_type": "code",
   "execution_count": 56,
   "metadata": {},
   "outputs": [
    {
     "name": "stdout",
     "output_type": "stream",
     "text": [
      "Current variable value: 10\n",
      "Current variable value: 9\n",
      "Current variable value: 8\n",
      "Current variable value: 7\n",
      "Current variable value: 6\n",
      "Current variable value: 5\n",
      "Current variable value: 4\n",
      "Current variable value: 3\n",
      "Current variable value: 2\n"
     ]
    }
   ],
   "source": [
    "var = 10                    # Second Example\n",
    "while var > 0:             \n",
    "    print('Current variable value: {}'.format(var))\n",
    "    var = var - 1\n",
    "    if var == 1:\n",
    "        break"
   ]
  },
  {
   "cell_type": "code",
   "execution_count": 58,
   "metadata": {},
   "outputs": [
    {
     "name": "stdout",
     "output_type": "stream",
     "text": [
      "Current letter: P\n",
      "Current letter: y\n",
      "Current letter: t\n",
      "Current letter: o\n",
      "Current letter: n\n"
     ]
    }
   ],
   "source": [
    "#Loop for dengan melewati suati nilai khusus\n",
    "for letter in 'Python':     # First Example\n",
    "    if letter == 'h':\n",
    "        continue\n",
    "    print('Current letter: {}'.format(letter))"
   ]
  },
  {
   "cell_type": "code",
   "execution_count": 59,
   "metadata": {},
   "outputs": [
    {
     "name": "stdout",
     "output_type": "stream",
     "text": [
      "Elemen positif: 1\n",
      "Elemen positif: 2\n",
      "Elemen positif: 3\n"
     ]
    }
   ],
   "source": [
    "for a in [0, 1, -1, 2, -2, 3, -3]:     #Second Example\n",
    "    if a <= 0:\n",
    "        continue\n",
    "    print('Elemen positif: {}'.format(a))"
   ]
  },
  {
   "cell_type": "code",
   "execution_count": 61,
   "metadata": {},
   "outputs": [
    {
     "name": "stdout",
     "output_type": "stream",
     "text": [
      "2 is a prime number\n",
      "3 is a prime number\n",
      "4 equals 2 * 2.0\n",
      "5 is a prime number\n",
      "6 equals 2 * 3.0\n",
      "7 is a prime number\n",
      "8 equals 2 * 4.0\n",
      "9 equals 3 * 3.0\n"
     ]
    }
   ],
   "source": [
    "for n in range(2, 10):\n",
    "    for x in range(2, n):\n",
    "        if n % x == 0:\n",
    "            print( n, 'equals', x, '*', n/x)\n",
    "            break\n",
    "    else:\n",
    "        # loop fell through without finding a factor\n",
    "        print(n, 'is a prime number')"
   ]
  },
  {
   "cell_type": "code",
   "execution_count": 64,
   "metadata": {},
   "outputs": [
    {
     "name": "stdout",
     "output_type": "stream",
     "text": [
      "1\n",
      "0\n",
      "Loop is finished\n"
     ]
    }
   ],
   "source": [
    "# else setelah while\n",
    "# Berbeda dengan Else setelah For, pada statement while, blok statement else akan selalu dieksekusi saat kondisi pada while menjadi salah. \n",
    "n = 2\n",
    "while n > 0:\n",
    "    n = n - 1\n",
    "    if n == 2:\n",
    "        break\n",
    "    print(n)\n",
    "else:\n",
    "    print(\"Loop is finished\")"
   ]
  },
  {
   "cell_type": "code",
   "execution_count": 66,
   "metadata": {},
   "outputs": [
    {
     "name": "stdout",
     "output_type": "stream",
     "text": [
      "[1, 4, 9, 16]\n"
     ]
    }
   ],
   "source": [
    "# List Comprehension (membuat list dengan inline loop dan if)\n",
    "# Ada kalanya Anda perlu untuk membuat sebuah list baru dari dengan sebuah operasi dari list sebelumnya. \n",
    "# Misalnya membuat nilai kuadrat dari semua item dalam list:\n",
    "numbers = [1, 2, 3, 4]\n",
    "squares = []\n",
    "for n in numbers:\n",
    "    squares.append(n**2)\n",
    "print(squares)"
   ]
  },
  {
   "cell_type": "code",
   "execution_count": 70,
   "metadata": {},
   "outputs": [
    {
     "name": "stdout",
     "output_type": "stream",
     "text": [
      "[2, 3, 4]\n"
     ]
    }
   ],
   "source": [
    "#Contoh3 menemukan bilangan yang ada di kedua list\n",
    "list_a = [1, 2, 3, 4]\n",
    "list_b = [2, 3, 4, 5]\n",
    "common_num = []\n",
    "for a in list_a:\n",
    "    for b in list_b:\n",
    "        if a == b:\n",
    "            common_num.append(a)\n",
    "     \n",
    "print(common_num)  # Output [2, 3, 4]"
   ]
  },
  {
   "cell_type": "code",
   "execution_count": 71,
   "metadata": {},
   "outputs": [
    {
     "name": "stdout",
     "output_type": "stream",
     "text": [
      "[2, 3, 4]\n"
     ]
    }
   ],
   "source": [
    "#Contoh4 Implementasi dengan list comprehension\n",
    "list_a = [1, 2, 3, 4]\n",
    "list_b = [2, 3, 4, 5]\n",
    "common_num = [a for a in list_a for b in list_b if a == b]\n",
    "print(common_num) # Output: [2, 3, 4]"
   ]
  },
  {
   "cell_type": "code",
   "execution_count": 72,
   "metadata": {},
   "outputs": [
    {
     "name": "stdout",
     "output_type": "stream",
     "text": [
      "['hello', 'world', 'in', 'python']\n"
     ]
    }
   ],
   "source": [
    "# Contoh 5 kecilkan semua huruf\n",
    "list_a = [\"Hello\", \"World\", \"In\", \"Python\"]\n",
    "small_list_a = [_.lower() for _ in list_a]\n",
    "print(small_list_a) # Output: ['hello', 'world', 'in', 'python']"
   ]
  },
  {
   "cell_type": "code",
   "execution_count": 76,
   "metadata": {},
   "outputs": [
    {
     "name": "stdout",
     "output_type": "stream",
     "text": [
      "[[1, 1], [9, 27], [25, 125], [49, 343], [81, 729]]\n"
     ]
    }
   ],
   "source": [
    "#Question tentang list\n",
    "list_a = range(1,10,2)\n",
    "x = [ [a**2, a**3] for a in list_a]\n",
    "print(x)\n",
    "# Kode tersebut menggunakan list comprehension untuk menghasilkan nilai kuadrat dan kubik dari isi list_a. list_a sendiri berisi bilangan ganjil di bawah 10 (dari 1 sampai 9). comprehension untuk menghasilkan nilai kuadrat dan kubik dari isi list_a list_a sendiri berisi bilangan ganjil dibawah 10."
   ]
  },
  {
   "cell_type": "code",
   "execution_count": 77,
   "metadata": {},
   "outputs": [
    {
     "name": "stdout",
     "output_type": "stream",
     "text": [
      "Inside the function: 30\n",
      "Outside the function: 30\n"
     ]
    }
   ],
   "source": [
    "#Membuat fungsi\n",
    "def sum(arg1, arg2):\n",
    "    # Add both the parameters and return them.\n",
    "    total = arg1 + arg2\n",
    "    print('Inside the function: {}'.format(total))\n",
    "    return total\n",
    "# Panggil sum\n",
    "total = sum(10, 20);\n",
    "print('Outside the function: {}'.format(total))"
   ]
  },
  {
   "cell_type": "code",
   "execution_count": 78,
   "metadata": {},
   "outputs": [
    {
     "name": "stdout",
     "output_type": "stream",
     "text": [
      "nilai kuadrat dari 10 adalah 100\n"
     ]
    }
   ],
   "source": [
    "def kuadrat(x):\n",
    "    return x*x\n",
    "a = 10\n",
    "k = kuadrat(a)\n",
    "print('nilai kuadrat dari {} adalah {}'.format(a, k))\n"
   ]
  },
  {
   "cell_type": "code",
   "execution_count": 79,
   "metadata": {},
   "outputs": [
    {
     "name": "stdout",
     "output_type": "stream",
     "text": [
      "Nilai di dalam fungsi: [10, 20, 30, [1, 2, 3, 4]]\n",
      "Nilai di luar fungsi: [10, 20, 30, [1, 2, 3, 4]]\n"
     ]
    }
   ],
   "source": [
    "# Pass by reference vs value\n",
    "# Seluruh parameter (argumen) pada bahasa Python bersifat “passed by reference”. Artinya saat Anda mengubah sebuah variabel, maka data yang mereferensi padanya juga akan berubah, baik di dalam fungsi, maupun di luar fungsi pemanggil. Kecuali jika anda melakukan operasi assignment yang akan mengubah reference parameter.\n",
    "def changeme(mylist):\n",
    "    mylist.append([1, 2, 3, 4])\n",
    "    print('Nilai di dalam fungsi: {}'.format(mylist))\n",
    " \n",
    "# Panggil changeme\n",
    "mylist = [10, 20, 30]\n",
    "changeme(mylist)\n",
    "print('Nilai di luar fungsi: {}'.format(mylist))"
   ]
  },
  {
   "cell_type": "code",
   "execution_count": 81,
   "metadata": {},
   "outputs": [
    {
     "name": "stdout",
     "output_type": "stream",
     "text": [
      "Nilai di dalam fungsi: [1, 2, 3, 4]\n",
      "Nilai di luar fungsi: [10, 20, 30]\n"
     ]
    }
   ],
   "source": [
    "# Contoh lain di mana argumen ditimpa dalam fungsi:\n",
    "# Function definition is here\n",
    "def changeme(mylist):\n",
    "    \"Variabel mylist berikut hanya dikenali (berlaku) di dalam fungsi\"\n",
    "    mylist = [1, 2, 3, 4]  # This would assign new reference in mylist\n",
    "    print ('Nilai di dalam fungsi: {}'.format(mylist))\n",
    " \n",
    "# Panggil fungsi changeme\n",
    "mylist = [10, 20, 30]\n",
    "changeme(mylist)\n",
    "print('Nilai di luar fungsi: {}'.format(mylist))"
   ]
  },
  {
   "cell_type": "code",
   "execution_count": 82,
   "metadata": {},
   "outputs": [
    {
     "name": "stdout",
     "output_type": "stream",
     "text": [
      "Name:  Dicoding\n",
      "Age:  5\n"
     ]
    }
   ],
   "source": [
    "# Jika Anda memanggil fungsi dengan argumen kata kunci (keyword) atau dengan menyebutkan nama variabelnya, Anda tidak wajib meletakkan urutan variabel sesuai dengan urutan saat fungsi didefinisikan.\n",
    "def printinfo(name, age):\n",
    "   \"This prints a passed info into this function\"\n",
    "   print('Name: ', name)\n",
    "   print('Age: ', age)\n",
    " \n",
    "# Now you can call printinfo function (with age argument first)\n",
    "printinfo(age=5, name=\"Dicoding\")"
   ]
  },
  {
   "cell_type": "code",
   "execution_count": 83,
   "metadata": {},
   "outputs": [
    {
     "name": "stdout",
     "output_type": "stream",
     "text": [
      "Name:  Dicoding\n",
      "Age:  5\n",
      "Name:  Data\n",
      "Age:  35\n"
     ]
    }
   ],
   "source": [
    "# Contoh Fungsi dengan Default arguments\n",
    "# Sebuah fungsi yang memiliki sejumlah argumen, dapat diatur nilai bawaannya (default), agar pada saat pemanggilan nilainya bisa menjadi opsional untuk diisi.\n",
    "# Argumen dengan nilai bawaan harus didefinisikan setelah argumen yang tidak memiliki nilai bawaan.\n",
    "def printinfo(name, age=35):\n",
    "   \"This prints a passed info into this function\"\n",
    "   print('Name: ', name)\n",
    "   print ('Age: ', age)\n",
    " \n",
    "# Now you can call printinfo function (with optional argument age)\n",
    "printinfo(age=5, name='Dicoding')\n",
    "printinfo(name='Data')"
   ]
  },
  {
   "cell_type": "code",
   "execution_count": 84,
   "metadata": {},
   "outputs": [
    {
     "name": "stdout",
     "output_type": "stream",
     "text": [
      "Inside the function: 30\n",
      "Outside the function: 0\n"
     ]
    }
   ],
   "source": [
    "# Variabel yang didefinisikan dalam fungsi bersifat lokal (di fungsi tersebut), dan yang didefinisikan di luar fungsi bersifat global. Perbandingkan kode berikut pada bagian yang ditebalkan dan keluarannya.\n",
    "# Artinya, variabel Lokal hanya dapat diakses dan dioperasikan dalam fungsi tempat variabel tersebut dideklarasikan. \n",
    "total = 0  # ini variabel global\n",
    "def sum(arg1, arg2):\n",
    "    # tambahkan kedua parameter dan return\n",
    "    total = arg1 + arg2\n",
    "    print('Inside the function: {}'.format(total))\n",
    "    return total\n",
    "# panggil sum\n",
    "sum(10, 20)\n",
    "print('Outside the function: {}'.format(total)) "
   ]
  },
  {
   "cell_type": "code",
   "execution_count": 85,
   "metadata": {},
   "outputs": [],
   "source": [
    "# Object Oriented Programming\n",
    "# Kita akan mengembangkan aplikasi yang sudah dimiliki di atas, class Kalkulator sebagai kelas dasar yang mempunyai fungsi melakukan penambahan melalui metode tambah_angka.\n",
    "class Kalkulator:\n",
    "    \"\"\"contoh kelas kalkulator sederhana. anggap kelas ini tidak boleh diubah!\"\"\"\n",
    " \n",
    "    def __init__(self, nilai=0):\n",
    "        self.nilai = nilai\n",
    " \n",
    "    def tambah_angka(self, angka1, angka2):\n",
    "        self.nilai = angka1 + angka2\n",
    "        if self.nilai > 9:  # kalkulator sederhana hanya memroses sampai 9\n",
    "            print('kalkulator sederhana melebihi batas angka: {}'.format(self.nilai))\n",
    "        return self.nilai"
   ]
  },
  {
   "cell_type": "code",
   "execution_count": 87,
   "metadata": {},
   "outputs": [
    {
     "name": "stdout",
     "output_type": "stream",
     "text": [
      "<class '__main__.Kalkulator'>\n"
     ]
    }
   ],
   "source": [
    "print(Kalkulator)"
   ]
  },
  {
   "cell_type": "code",
   "execution_count": 22,
   "metadata": {},
   "outputs": [],
   "source": [
    "# Object Oriented Programming\n",
    "# Dalam Python, dimana Anda sebelumnya pernah mempelajari mengenai duck typing, \n",
    "# maka Anda cukup mendefinisikan saja sebuah class kosong, selanjutnya penamaan item data dapat secara langsung didefinisikan dan diisikan saat sudah instantiation.\n",
    "class Pegawai:\n",
    "    pass  # definisi class kosong\n",
    " \n",
    "don = Pegawai()  # membuat Pegawai baru menjadi objek bernama don\n",
    " \n",
    "# tambahkan item data pada objek sebagai record\n",
    "don.nama = 'Don Doo'\n",
    "don.bagian = 'IT'\n",
    "don.gaji = 999\n"
   ]
  },
  {
   "cell_type": "code",
   "execution_count": 23,
   "metadata": {},
   "outputs": [
    {
     "name": "stdout",
     "output_type": "stream",
     "text": [
      "<class '__main__.Pegawai'>\n"
     ]
    }
   ],
   "source": [
    "print(Pegawai)"
   ]
  },
  {
   "cell_type": "code",
   "execution_count": 30,
   "metadata": {},
   "outputs": [],
   "source": [
    "import math\n",
    "def quadratic_roots(a, b, c, xl, xh):\n",
    "    # find roots\n",
    "    roots = []\n",
    "    d = b*b-4*a*c\n",
    "    if d > 0:\n",
    "        r1 = 0\n",
    "        r2 = 0\n",
    "        if a > 0:\n",
    "            sgn = 1\n",
    "            if b < 0: sgn = -1\n",
    "            q = -0.5*(b+sgn*math.sqrt(d))\n",
    "            r1 = q/a\n",
    "            r2 = r1\n",
    "            if q > 0: r2 = c/q\n",
    "        else:\n",
    "            r1 = -c/b\n",
    "            r2 = r1\n",
    "        # order roots\n",
    "        if r1 > r2:\n",
    "            tmp = r1\n",
    "            r1 = r2\n",
    "            r2 = tmp\n",
    "        if r1 >= xl and r1 <= xh:\n",
    "            roots.append(r1)\n",
    "        if r2 > r1 and r2 >= xl and r2 <= xh:\n",
    "            roots.append(r2)\n",
    "    else:\n",
    "        if a > 0:\n",
    "            r1 = -b/(2*a)\n",
    "            if r1 >= xl and r1 <= xh:\n",
    "                roots.append(r1)\n",
    "    return roots"
   ]
  },
  {
   "cell_type": "code",
   "execution_count": null,
   "metadata": {},
   "outputs": [],
   "source": [
    "quadratic_roots()"
   ]
  }
 ],
 "metadata": {
  "kernelspec": {
   "display_name": "Python 3",
   "language": "python",
   "name": "python3"
  },
  "language_info": {
   "codemirror_mode": {
    "name": "ipython",
    "version": 3
   },
   "file_extension": ".py",
   "mimetype": "text/x-python",
   "name": "python",
   "nbconvert_exporter": "python",
   "pygments_lexer": "ipython3",
   "version": "3.7.3"
  }
 },
 "nbformat": 4,
 "nbformat_minor": 2
}
